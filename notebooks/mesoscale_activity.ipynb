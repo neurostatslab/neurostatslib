{
 "cells": [
  {
   "cell_type": "markdown",
   "id": "ac530ad7",
   "metadata": {},
   "source": [
    "# Introduction\n",
    "Paper: https://www.sciencedirect.com/science/article/pii/S0092867423014459\n",
    "\n",
    "- **Subject**: mice, transgenic\n",
    "- **Number**: 28\n",
    "\n",
    "### Recording details\n",
    "- **Recording type**: acute electrophysiology via Neuropixels 1.0 probes\n",
    "    - this means that probes are inserted at the beginning of every session and retrieved at the end. recordings will not be taken from the exact same location twice. mice can usually be recorded from for up to 5 sessions using this technique, after which the insertion windows are no longer viable\n",
    "    - ALSO: intermittent optogenetic inactivation of ALM\n",
    "- **Probe density**: 2-5 simultaneous probes per recording\n",
    "    - 2 probes - 2 sessions\n",
    "    - 3 probes - 53 sessions\n",
    "    - 4 probes - 98 sessions\n",
    "    - 5 probes - 20 sessions\n",
    "- **Recording targets**: anterior lateral motor cortex (ALM) circuit. individual probes target the following groups: \n",
    "    1. ALM and underlying cortical regions (e.g. orbito frontal cortex)\n",
    "    2. striatum\n",
    "    3. higher-order thalamus\n",
    "    4. midbrain (superior colliculus (SCm), midbrain reticular nucleus (MRN), and substantia nigra pars reticulata (SNr))\n",
    "    5. medulla and overlying cerebellum\n",
    "    6. other\n",
    "- **Spike-sorting**: Kilosort2 (probably MATLAB)\n",
    "- **Unit count**: 70,000 total single units, localized using hisological information and electrophysiological targets. Median of 393 simultaneously recorded units per session.\n",
    "    \n",
    "### Behavior details\n",
    "- **Headfixed task**: Memory-guided movement task (i.e. auditory delayed response task)\n",
    "    - instruction stimuli: one of two pure tones (3 kHz or 12 kHz) played three times, 150 ms pulses and 100 ms inter-tone-interval, 650 ms total\n",
    "    - delay epoch: 1.2s\n",
    "    - can't lick until auditory 'Go' cue, 6 kHz carrier frequency with 360 Hz modulation, 0.1 s duration, where early licking triggered replay of delay epoch\n",
    "    - response epoch: 1.5 s, correct lick triggered small water reward\n",
    "    - incorrect licks triggered a 1-3 s timeout\n",
    "    - trial ends after mouse stops licking for 1.5 s, followed by a 250 ms inter-trial-interval\n",
    "    - early lick and no-response trials excluded from analysis\n",
    "- **Video tracking**: 300Hz recording from two cameras to capture animal movements\n",
    "    - offline tracking of tongue, jaw, and nose using DeepLabCut"
   ]
  },
  {
   "cell_type": "code",
   "execution_count": null,
   "id": "f4c0cc47",
   "metadata": {},
   "outputs": [],
   "source": [
    "import pynacollada as nac\n",
    "import pynapple as nap"
   ]
  },
  {
   "cell_type": "markdown",
   "id": "db389f1f",
   "metadata": {},
   "source": [
    "# The data\n",
    "\n",
    "## Acquire / Download\n",
    "\n",
    "DANDI archive: https://dandiarchive.org/dandiset/000363/0.230822.0128\n",
    "\n",
    "**size**: 53.6 GB\n",
    "\n",
    "download to lab group folder? \n",
    "\n",
    "instructions outside of notebook?\n",
    "\n",
    "## File structure\n",
    "- 28 folders - one for each mouse\n",
    "    - `.nwb` files: one for each session with naming scheme `sub-{number}_ses-{YYYYMMDD}T{HHMMSS}_behavior+ecephys[+ogen]` (most files have `+ogen` on the end, signalizing optogenetics done that session)\n",
    "    \n",
    "NWB file:"
   ]
  },
  {
   "cell_type": "code",
   "execution_count": null,
   "id": "b8f328dd",
   "metadata": {},
   "outputs": [],
   "source": [
    "nac.config[\"data_dir\"] = \"../data\"\n",
    "data = nac.load_data(\"mesoscale_activity\")\n",
    "data"
   ]
  },
  {
   "cell_type": "markdown",
   "id": "e49bc836",
   "metadata": {},
   "source": [
    "# Pynapple\n",
    "\n",
    "## Importing the data"
   ]
  },
  {
   "cell_type": "markdown",
   "id": "3bb4e11e",
   "metadata": {},
   "source": [
    "### Load using pynapple (allows for lazy loading)\n",
    "\n",
    "can load directly using `nap.load_file()`, which does a good job"
   ]
  },
  {
   "cell_type": "code",
   "execution_count": null,
   "id": "3d70e961",
   "metadata": {},
   "outputs": [],
   "source": [
    "data = nap.load_file(os.path.join(fpath,fname))\n",
    "print(data)"
   ]
  },
  {
   "cell_type": "code",
   "execution_count": null,
   "id": "c17cb90d",
   "metadata": {},
   "outputs": [],
   "source": [
    "data['trials']"
   ]
  },
  {
   "cell_type": "code",
   "execution_count": null,
   "id": "cdac82ab",
   "metadata": {},
   "outputs": [],
   "source": [
    "data['units']"
   ]
  },
  {
   "cell_type": "markdown",
   "id": "73c8f5f9",
   "metadata": {},
   "source": [
    "### Create from loaded .nwb file\n",
    "Allows us to manipulate what types of objects are created, things that can't be inferred necessary from parsing the file\n",
    "\n",
    "Grab trials as a dataframe and transform into interval set. This will be the same as what's loaded above"
   ]
  },
  {
   "cell_type": "code",
   "execution_count": null,
   "id": "024b065a",
   "metadata": {
    "jupyter": {
     "outputs_hidden": true
    }
   },
   "outputs": [],
   "source": [
    "trials = nwbfile.trials.to_dataframe()\n",
    "trials = trials.rename(columns={'start_time':'start','stop_time':'end'})\n",
    "trials = nap.IntervalSet(trials)"
   ]
  },
  {
   "cell_type": "code",
   "execution_count": null,
   "id": "aca88906",
   "metadata": {},
   "outputs": [],
   "source": [
    "trials"
   ]
  },
  {
   "cell_type": "markdown",
   "id": "359bd6f8",
   "metadata": {},
   "source": [
    "variables saved in BehaviorEvents often have start and stop times, where the \"data\" value is meaningless. It would make more sense to combine them and create an interval set for each. other variables are only timestamps, with similarly meaningless \"data\" values associated with them. they would be better as Ts objects\n",
    "\n",
    "grab other time stamps from BehavioralEvents and put into a dictionary. Do some manipulation to concatenate start and stop times into a dataframe"
   ]
  },
  {
   "cell_type": "code",
   "execution_count": null,
   "id": "7fb380be",
   "metadata": {},
   "outputs": [],
   "source": [
    "events = {}\n",
    "beh = nwbfile.acquisition['BehavioralEvents'].time_series\n",
    "for key in beh:\n",
    "    if 'start' in key:\n",
    "        key2 = key.replace('start_','')\n",
    "        if key2 not in events.keys():\n",
    "            events[key2] = pd.DataFrame(columns=['start','end'])\n",
    "        events[key2]['start'] = beh[key].timestamps[:]\n",
    "    elif 'stop' in key:    \n",
    "        key2 = key.replace('stop_','')\n",
    "        if key2 not in events.keys():\n",
    "            events[key2] = pd.DataFrame(columns=['start','end'])\n",
    "        events[key2]['end'] = beh[key].timestamps[:]\n",
    "    else:\n",
    "        events[key] = beh[key].timestamps[:]"
   ]
  },
  {
   "cell_type": "markdown",
   "id": "c4bd3c34",
   "metadata": {},
   "source": [
    "turn into pynapple objects"
   ]
  },
  {
   "cell_type": "code",
   "execution_count": null,
   "id": "52251dcc",
   "metadata": {},
   "outputs": [],
   "source": [
    "for key in events:\n",
    "    if isinstance(events[key],pd.DataFrame):\n",
    "        events[key] = nap.IntervalSet(events[key])\n",
    "    else:\n",
    "        events[key] = nap.Ts(events[key])"
   ]
  },
  {
   "cell_type": "markdown",
   "id": "612f122e",
   "metadata": {},
   "source": [
    "### Spiking data as TsGroup"
   ]
  },
  {
   "cell_type": "markdown",
   "id": "9b187f33",
   "metadata": {},
   "source": [
    "grab spiking data and import into pynapple TsGroup, preserving metadata. this should also match the pynapple loaded objects"
   ]
  },
  {
   "cell_type": "code",
   "execution_count": null,
   "id": "2c99eada",
   "metadata": {
    "jupyter": {
     "outputs_hidden": true
    }
   },
   "outputs": [],
   "source": [
    "units = nwbfile.units.to_dataframe()\n",
    "spike_times = df[\"spike_times\"]\n",
    "metadata = df.drop(columns=\"spike_times\")\n",
    "units = nap.TsGroup(spike_times)\n",
    "units.set_info(metadata)"
   ]
  },
  {
   "cell_type": "code",
   "execution_count": null,
   "id": "c699a0ba",
   "metadata": {},
   "outputs": [],
   "source": [
    "units"
   ]
  },
  {
   "cell_type": "markdown",
   "id": "7a207843",
   "metadata": {},
   "source": [
    "## Basic time series analysis\n",
    "### Binning\n",
    "\n",
    "### Tuning curves\n",
    "\n",
    "### Bayesian decoding"
   ]
  },
  {
   "cell_type": "markdown",
   "id": "b9efae50",
   "metadata": {},
   "source": [
    "# NeMoS"
   ]
  },
  {
   "cell_type": "code",
   "execution_count": null,
   "id": "b1682cb2",
   "metadata": {},
   "outputs": [],
   "source": [
    "import nemos as nmo"
   ]
  },
  {
   "cell_type": "code",
   "execution_count": null,
   "id": "bcdb229f",
   "metadata": {},
   "outputs": [],
   "source": []
  },
  {
   "cell_type": "code",
   "execution_count": null,
   "id": "d0b0691f",
   "metadata": {},
   "outputs": [],
   "source": []
  }
 ],
 "metadata": {
  "kernelspec": {
   "display_name": "test",
   "language": "python",
   "name": "python3"
  }
 },
 "nbformat": 4,
 "nbformat_minor": 5
}
